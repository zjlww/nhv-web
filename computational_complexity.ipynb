{
 "cells": [
  {
   "cell_type": "markdown",
   "metadata": {},
   "source": [
    "# Computational Complexity of Vocoders\n",
    "\n",
    "We report the number of multiplications required to generate 1 second long 22050 Hz audio for different neural vocoders. We do not report real time factors as they are implementation dependent.\n",
    "\n",
    "In the calculation, We do not consider the complexity caused by mathematical functions, network biases, feature upsampling and source signal generation. \n",
    "\n",
    "A N point FFT is assumed to cost $5N\\log_2 N$ FLOPs. "
   ]
  },
  {
   "cell_type": "code",
   "execution_count": 2,
   "metadata": {},
   "outputs": [],
   "source": [
    "from math import ceil, log2\n",
    "\n",
    "fft = lambda x: (5 * x * log2(x))\n",
    "\n",
    "def conv(k, inc, outc, group=1):\n",
    "    return ((inc / group) * (outc / group) * group * k * 2 + outc)\n",
    "\n",
    "def conv_transpose(k, inc, outc):\n",
    "    return (inc * outc * k * 2 + k * outc)\n",
    "\n",
    "complex_multiply = lambda x: x * 6"
   ]
  },
  {
   "cell_type": "markdown",
   "metadata": {},
   "source": [
    "## b-NSF\n",
    "\n",
    "b-NSF is basically 5 10-layer WaveNets stacked together. The WaveNets have 64 residual channels and 128 skip channels."
   ]
  },
  {
   "cell_type": "code",
   "execution_count": 3,
   "metadata": {},
   "outputs": [
    {
     "name": "stdout",
     "output_type": "stream",
     "text": [
      "b-NSF costs 4 * 10^6 FLOPs per sample.\n"
     ]
    }
   ],
   "source": [
    "b_nsf_total = (conv(1, 1, 64) + 10 * (conv(3, 64, 128) + 64 + conv(1, 64, 64) + conv(1, 64, 128) + 64 + 128) + conv(2, 128, 2)) * 5\n",
    "print(f\"b-NSF costs {b_nsf_total/10**6:0.0f} * 10^6 FLOPs per sample.\")"
   ]
  },
  {
   "cell_type": "markdown",
   "metadata": {},
   "source": [
    "## Gaussian WaveNet\n",
    "\n",
    "Parameters for Gaussian WaveNet is 128 skip channels, 64 residual channels, 24 layers convolutions with kernel size of 3."
   ]
  },
  {
   "cell_type": "code",
   "execution_count": 4,
   "metadata": {},
   "outputs": [
    {
     "name": "stdout",
     "output_type": "stream",
     "text": [
      "Gaussian WaveNet costs 2 * 10^6 FLOPs per sample.\n"
     ]
    }
   ],
   "source": [
    "wavenet_total = (conv(1, 1, 64) + 24 * (conv(3, 64, 128) + 64 + conv(1, 64, 64) + conv(1, 64, 128) + 64 + 128) + conv(1, 128, 128) + conv(1, 128, 2))\n",
    "print(f\"Gaussian WaveNet costs {wavenet_total/10**6:0.0f} * 10^6 FLOPs per sample.\")"
   ]
  },
  {
   "cell_type": "markdown",
   "metadata": {},
   "source": [
    "## Parallel WaveGAN\n",
    "\n",
    "Parallel WaveGAN is basically a 30 layer wavenet with 64 skip channels, and 64 residual channels."
   ]
  },
  {
   "cell_type": "code",
   "execution_count": 5,
   "metadata": {},
   "outputs": [
    {
     "name": "stdout",
     "output_type": "stream",
     "text": [
      "Parallel WaveGAN costs 2 * 10^6 FLOPs per sample.\n"
     ]
    }
   ],
   "source": [
    "pwg_total = (conv(1, 1, 64) + 30 * (conv(3, 64, 128) + 64 + conv(1, 64, 64) + conv(1, 64, 64) + 64 + 64) + conv(1, 64, 64) + conv(1, 64, 1))\n",
    "print(f\"Parallel WaveGAN costs {pwg_total/10**6:0.0f} * 10^6 FLOPs per sample.\")"
   ]
  },
  {
   "cell_type": "markdown",
   "metadata": {},
   "source": [
    "## MelGAN\n",
    "\n",
    "We use the same hyperparameters reported in the paper."
   ]
  },
  {
   "cell_type": "code",
   "execution_count": 6,
   "metadata": {},
   "outputs": [],
   "source": [
    "residual_stack = lambda n: (conv(3, n, n) * 6 + 3 * n)\n",
    "melgan_total = conv(7, 80, 512) / (8 * 8 * 2 * 2) + \\\n",
    "    conv_transpose(16, 512, 256) / (8 * 8 * 2 * 2) + \\\n",
    "    residual_stack(256) / (8 * 2 * 2) + \\\n",
    "    conv_transpose(16, 256, 128) / (8 * 2 * 2) + \\\n",
    "    residual_stack(128) / (2 * 2) + \\\n",
    "    conv_transpose(4, 128, 64) / (2 * 2) + \\\n",
    "    residual_stack(64) / (2) + \\\n",
    "    conv_transpose(2, 64, 32) / (2) + \\\n",
    "    residual_stack(32) + \\\n",
    "    conv(7, 32, 1)"
   ]
  },
  {
   "cell_type": "code",
   "execution_count": 7,
   "metadata": {},
   "outputs": [
    {
     "name": "stdout",
     "output_type": "stream",
     "text": [
      "MelGAN costs 4.1 * 10^5 FLOPs per sample.\n"
     ]
    }
   ],
   "source": [
    "print(f\"MelGAN costs {melgan_total/10**5:0.1f} * 10^5 FLOPs per sample.\")"
   ]
  },
  {
   "cell_type": "markdown",
   "metadata": {},
   "source": [
    "## LPCNet\n",
    "\n",
    "We use the formula given in the paper. The first GRU is made sparse in LPCNet. \n",
    "$C=\\left(3 d N_{A}^{2}+3 N_{B}\\left(N_{A}+N_{B}\\right)+2 N_{B} Q\\right) \\cdot 2 f_{s}$, where $d=0.1$, $N_{A}=384$, $N_{B}=16$, and $Q=256$, $f_s = 22050$. "
   ]
  },
  {
   "cell_type": "code",
   "execution_count": 8,
   "metadata": {},
   "outputs": [
    {
     "name": "stdout",
     "output_type": "stream",
     "text": [
      "LPCNet costs 1.4 * 10^5 FLOPs per sample.\n"
     ]
    }
   ],
   "source": [
    "lpc_total = (3 * 0.1 * 384 ** 2 + 3 * 16 * (384 + 16) + 2 * 16 * 256) * 2\n",
    "print(f\"LPCNet costs {lpc_total/10**5:0.1f} * 10^5 FLOPs per sample.\")"
   ]
  },
  {
   "cell_type": "markdown",
   "metadata": {},
   "source": [
    "## NHV"
   ]
  },
  {
   "cell_type": "markdown",
   "metadata": {},
   "source": [
    "### Contribution of Convolutions"
   ]
  },
  {
   "cell_type": "code",
   "execution_count": 21,
   "metadata": {},
   "outputs": [],
   "source": [
    "nhv_convs = (conv(3, 80, 256) + conv(3, 256, 256, 8) * 2 + conv(3, 256, 222)) * 2 / 128\n",
    "nhv_filters = 0"
   ]
  },
  {
   "cell_type": "markdown",
   "metadata": {},
   "source": [
    "### Contribution of Filters\n",
    "\n",
    "We assume $N = 2048$ although $N = 1024$ is good enough. "
   ]
  },
  {
   "cell_type": "markdown",
   "metadata": {},
   "source": [
    "1. Complex cepstrum $\\hat h_h$ and $\\hat h_n$ are converted to DFT of $\\tilde h_h$ and $\\tilde h_n$. The point-wise exponential function is ignored. "
   ]
  },
  {
   "cell_type": "code",
   "execution_count": 22,
   "metadata": {},
   "outputs": [],
   "source": [
    "nhv_filters += fft(2048) * 2 / 128"
   ]
  },
  {
   "cell_type": "markdown",
   "metadata": {},
   "source": [
    "2. DFT of $p[n] w_L[n-mL]$ and $u[n] w_l[n-mL]$ is computed in each frame"
   ]
  },
  {
   "cell_type": "code",
   "execution_count": 23,
   "metadata": {},
   "outputs": [],
   "source": [
    "nhv_filters += fft(2048) * 2 / 128"
   ]
  },
  {
   "cell_type": "markdown",
   "metadata": {},
   "source": [
    "3. Convolution in the frequency domain, then overlap add."
   ]
  },
  {
   "cell_type": "code",
   "execution_count": 24,
   "metadata": {},
   "outputs": [],
   "source": [
    "nhv_filters += (complex_multiply(2048) + fft(2048) + 2048) * 2 / 128"
   ]
  },
  {
   "cell_type": "markdown",
   "metadata": {},
   "source": [
    "4. Suppose the final FIR is implemented with blocked FFT with frame shift 1024."
   ]
  },
  {
   "cell_type": "code",
   "execution_count": 25,
   "metadata": {},
   "outputs": [],
   "source": [
    "nhv_filters += (fft(2048) * 2 + complex_multiply(2048) + 2048) / 1024"
   ]
  },
  {
   "cell_type": "code",
   "execution_count": 26,
   "metadata": {
    "scrolled": false
   },
   "outputs": [
    {
     "name": "stdout",
     "output_type": "stream",
     "text": [
      "NHV costs 1.5 * 10^4 FLOPs per sample. NN accounts for 61% of total complexity.\n"
     ]
    }
   ],
   "source": [
    "nhv_total = nhv_convs + nhv_filters\n",
    "print(f\"NHV costs {nhv_total/10**4:0.1f} * 10^4 FLOPs per sample. NN accounts for {nhv_convs / (nhv_filters + nhv_convs) * 100:02.0f}% of total complexity.\")"
   ]
  }
 ],
 "metadata": {
  "kernelspec": {
   "display_name": "Python 3",
   "language": "python",
   "name": "python3"
  },
  "language_info": {
   "codemirror_mode": {
    "name": "ipython",
    "version": 3
   },
   "file_extension": ".py",
   "mimetype": "text/x-python",
   "name": "python",
   "nbconvert_exporter": "python",
   "pygments_lexer": "ipython3",
   "version": "3.7.4"
  }
 },
 "nbformat": 4,
 "nbformat_minor": 2
}
